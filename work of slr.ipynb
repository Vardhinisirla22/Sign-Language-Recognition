{
 "cells": [
  {
   "cell_type": "code",
   "execution_count": 1,
   "id": "9871404e",
   "metadata": {},
   "outputs": [],
   "source": [
    "import cv2 #for video and image processing"
   ]
  },
  {
   "cell_type": "code",
   "execution_count": 2,
   "id": "8b5419d2",
   "metadata": {},
   "outputs": [],
   "source": [
    "import numpy as np  #for converting image into an array"
   ]
  },
  {
   "cell_type": "code",
   "execution_count": 3,
   "id": "38ff580d",
   "metadata": {},
   "outputs": [],
   "source": [
    "import os #for defining file nd directory "
   ]
  },
  {
   "cell_type": "code",
   "execution_count": 4,
   "id": "f8b443cb",
   "metadata": {},
   "outputs": [],
   "source": [
    "from matplotlib import pyplot as plt #for plotting and graphing"
   ]
  },
  {
   "cell_type": "code",
   "execution_count": 5,
   "id": "685e08e9",
   "metadata": {},
   "outputs": [],
   "source": [
    "import time  #various time related actions like real-time,delay"
   ]
  },
  {
   "cell_type": "code",
   "execution_count": 6,
   "id": "1916f9d0",
   "metadata": {},
   "outputs": [],
   "source": [
    "import mediapipe as mp #python framework for working with pose estimation,hand gestures and movement"
   ]
  },
  {
   "cell_type": "code",
   "execution_count": null,
   "id": "ba5093e0",
   "metadata": {},
   "outputs": [],
   "source": []
  }
 ],
 "metadata": {
  "kernelspec": {
   "display_name": "Python 3 (ipykernel)",
   "language": "python",
   "name": "python3"
  },
  "language_info": {
   "codemirror_mode": {
    "name": "ipython",
    "version": 3
   },
   "file_extension": ".py",
   "mimetype": "text/x-python",
   "name": "python",
   "nbconvert_exporter": "python",
   "pygments_lexer": "ipython3",
   "version": "3.11.4"
  }
 },
 "nbformat": 4,
 "nbformat_minor": 5
}
